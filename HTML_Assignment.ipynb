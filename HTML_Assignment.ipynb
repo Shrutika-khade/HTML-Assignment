{
  "nbformat": 4,
  "nbformat_minor": 0,
  "metadata": {
    "colab": {
      "provenance": []
    },
    "kernelspec": {
      "name": "python3",
      "display_name": "Python 3"
    },
    "language_info": {
      "name": "python"
    }
  },
  "cells": [
    {
      "cell_type": "markdown",
      "source": [],
      "metadata": {
        "id": "PTIQgHSCr-na"
      }
    },
    {
      "cell_type": "markdown",
      "source": [
        "#HTML"
      ],
      "metadata": {
        "id": "kXyPsq4zsA0B"
      }
    },
    {
      "cell_type": "markdown",
      "source": [
        "Question 1 : Explain the basic structure of an HTML page. Why is it important to follow\n",
        "this structure?"
      ],
      "metadata": {
        "id": "Gx7ApdjlsOmB"
      }
    },
    {
      "cell_type": "code",
      "source": [
        "from IPython.display import display, HTML\n",
        "\n",
        "html_content = \"\"\"\n",
        "<!DOCTYPE html>\n",
        "<html>\n",
        "  <head>\n",
        "    <title>My First Page</title>\n",
        "  </head>\n",
        "  <body>\n",
        "    <h1>Hello World!</h1>\n",
        "    <p>This is my first HTML page.</p>\n",
        "  </body>\n",
        "</html>\n",
        "\"\"\"\n",
        "\n",
        "display(HTML(html_content))"
      ],
      "metadata": {
        "colab": {
          "base_uri": "https://localhost:8080/",
          "height": 100
        },
        "id": "dbLhPoZZ3keE",
        "outputId": "c431fb6c-a803-4d2b-a72d-f44b62e914da"
      },
      "execution_count": null,
      "outputs": [
        {
          "output_type": "display_data",
          "data": {
            "text/plain": [
              "<IPython.core.display.HTML object>"
            ],
            "text/html": [
              "\n",
              "<!DOCTYPE html>\n",
              "<html>\n",
              "  <head>\n",
              "    <title>My First Page</title>\n",
              "  </head>\n",
              "  <body>\n",
              "    <h1>Hello World!</h1>\n",
              "    <p>This is my first HTML page.</p>\n",
              "  </body>\n",
              "</html>\n"
            ]
          },
          "metadata": {}
        }
      ]
    },
    {
      "cell_type": "markdown",
      "source": [
        "<!DOCTYPE html>\n",
        "\n",
        "Declares the document type.\n",
        "\n",
        "Tells the browser that this is an HTML5 document."
      ],
      "metadata": {
        "id": "3iqOWVPmQ2cJ"
      }
    },
    {
      "cell_type": "markdown",
      "source": [
        "<html>...</html>\n",
        "\n",
        "The root element.\n",
        "\n",
        "Wraps all the content of the page."
      ],
      "metadata": {
        "id": "RHSHmVfMRQM4"
      }
    },
    {
      "cell_type": "markdown",
      "source": [
        "<head>\n",
        "\n",
        "Contains metadata about the page (not visible on the page itself).\n",
        "\n",
        "Common elements inside <head>:\n",
        "\n",
        "<title> → Title shown on browser tab\n",
        "\n",
        "<meta> → Character encoding, viewport settings\n",
        "\n",
        "Links to CSS stylesheets or scripts"
      ],
      "metadata": {
        "id": "Qe8KsZPzrKYJ"
      }
    },
    {
      "cell_type": "markdown",
      "source": [
        "<body>\n",
        "\n",
        "Contains the visible content of the webpage: text, images, links, headings, etc."
      ],
      "metadata": {
        "id": "aYnBypAircij"
      }
    },
    {
      "cell_type": "markdown",
      "source": [],
      "metadata": {
        "id": "sbnwRct_rh_6"
      }
    },
    {
      "cell_type": "markdown",
      "source": [
        "\n",
        "\n",
        "*  Why it is important to follow this structure?:-\n",
        "  Following the basic structure of an HTML page is important because it helps the browser understand and display the content correctly. A well-structured page ensures that all elements like headings, paragraphs, images, and links appear as intended. It also makes the code easier to read, maintain, and update. Moreover, proper structure improves accessibility for people using assistive tools and helps search engines understand your page, which is useful for better search rankings. Overall, sticking to the standard HTML structure ensures that your website works consistently across different browsers and devices.\n",
        "\n"
      ],
      "metadata": {
        "id": "ngjClBF0rlwk"
      }
    },
    {
      "cell_type": "markdown",
      "source": [
        "Question 2: You’re building a small personal profile page. Which HTML tags will you\n",
        "use to highlight your name as a heading, describe yourself in a paragraph, and\n",
        "emphasize a key skill?"
      ],
      "metadata": {
        "id": "zKq1i6kIsCC3"
      }
    },
    {
      "cell_type": "code",
      "metadata": {
        "colab": {
          "base_uri": "https://localhost:8080/",
          "height": 141
        },
        "id": "df44fd0c",
        "outputId": "befb96c4-07e9-4591-ab0d-5e559a78de41"
      },
      "source": [
        "from IPython.display import display, HTML\n",
        "\n",
        "html_content = \"\"\"\n",
        "<!DOCTYPE html>\n",
        "<html>\n",
        "<head>\n",
        "  <title>My Profile</title>\n",
        "</head>\n",
        "<body>\n",
        "  <h1>Shrutika Khade</h1>\n",
        "  <p>\n",
        "  I am an MCA student with a strong interest in web development. Currently, I am\n",
        "  enhancing my skills in front-end and back-end technologies to build efficient\n",
        "  and user-friendly applications. My career goal is to become a\n",
        "  <strong>Full Stack Java Developer</strong>, combining my knowledge of Java,\n",
        "  databases, and modern web frameworks to create complete software solutions.\n",
        "</p>\n",
        "  <p>My key skill is <strong>HTML, CSS, JavaScript, Advance Java</strong>,\n",
        "  which I use to build dynamic applications.</p>\n",
        "</body>\n",
        "</html>\n",
        "\"\"\"\n",
        "\n",
        "display(HTML(html_content))"
      ],
      "execution_count": null,
      "outputs": [
        {
          "output_type": "display_data",
          "data": {
            "text/plain": [
              "<IPython.core.display.HTML object>"
            ],
            "text/html": [
              "\n",
              "<!DOCTYPE html>\n",
              "<html>\n",
              "<head>\n",
              "  <title>My Profile</title>\n",
              "</head>\n",
              "<body>\n",
              "  <h1>Shrutika Khade</h1>\n",
              "  <p>\n",
              "  I am an MCA student with a strong interest in web development. Currently, I am\n",
              "  enhancing my skills in front-end and back-end technologies to build efficient\n",
              "  and user-friendly applications. My career goal is to become a\n",
              "  <strong>Full Stack Java Developer</strong>, combining my knowledge of Java,\n",
              "  databases, and modern web frameworks to create complete software solutions.\n",
              "</p>\n",
              "  <p>My key skill is <strong>HTML, CSS, JavaScript, Advance Java</strong>,\n",
              "  which I use to build dynamic applications.</p>\n",
              "</body>\n",
              "</html>\n"
            ]
          },
          "metadata": {}
        }
      ]
    },
    {
      "cell_type": "markdown",
      "source": [
        "Question 3: Look at the code below. Can you find and fix the mistake?\n",
        "<!-- This is an HTML comment\n",
        "<h1>Welcome to my website</h1>"
      ],
      "metadata": {
        "id": "yYiUSzqptL1K"
      }
    },
    {
      "cell_type": "markdown",
      "source": [
        "The mistake in the code is that the HTML comment is not properly closed. In HTML, comments must start with <!-- and end with -->."
      ],
      "metadata": {
        "id": "3VU4gBpYuDex"
      }
    },
    {
      "cell_type": "code",
      "metadata": {
        "colab": {
          "base_uri": "https://localhost:8080/",
          "height": 74
        },
        "id": "b15de149",
        "outputId": "688dbe93-108f-4158-811f-518985999f76"
      },
      "source": [
        "from IPython.display import display, HTML\n",
        "\n",
        "html_content = \"\"\"\n",
        "<!-- This is an HTML comment -->\n",
        "<h1>Welcome to my website</h1>\n",
        "\"\"\"\n",
        "\n",
        "display(HTML(html_content))"
      ],
      "execution_count": null,
      "outputs": [
        {
          "output_type": "display_data",
          "data": {
            "text/plain": [
              "<IPython.core.display.HTML object>"
            ],
            "text/html": [
              "\n",
              "<!-- This is an HTML comment -->\n",
              "<h1>Welcome to my website</h1>\n"
            ]
          },
          "metadata": {}
        }
      ]
    },
    {
      "cell_type": "markdown",
      "source": [
        "Question 4: You’re creating a form that asks the user to enter their name, select their\n",
        "country from a list, and click a button to submit. Write the HTML code for this."
      ],
      "metadata": {
        "id": "bQyhG9xAvgLs"
      }
    },
    {
      "cell_type": "code",
      "metadata": {
        "colab": {
          "base_uri": "https://localhost:8080/",
          "height": 168
        },
        "id": "dab9fefd",
        "outputId": "311eb473-e213-43a2-e7a5-3ee765333d4f"
      },
      "source": [
        "from IPython.display import display, HTML\n",
        "\n",
        "html_content = \"\"\"\n",
        "<!DOCTYPE html>\n",
        "<html>\n",
        "<head>\n",
        "    <title>User Form</title>\n",
        "</head>\n",
        "<body>\n",
        "    <h1>User Information Form</h1>\n",
        "    <form action=\"#\" method=\"post\">\n",
        "        <!-- Name input -->\n",
        "        <label for=\"name\">Name:</label>\n",
        "        <input type=\"text\" id=\"name\" name=\"name\" placeholder=\"Enter your name\" required>\n",
        "        <br><br>\n",
        "\n",
        "        <!-- Country selection -->\n",
        "        <label for=\"country\">Country:</label>\n",
        "        <select id=\"country\" name=\"country\" required>\n",
        "            <option value=\"\">Select your country</option>\n",
        "            <option value=\"india\">India</option>\n",
        "            <option value=\"usa\">USA</option>\n",
        "            <option value=\"uk\">UK</option>\n",
        "            <option value=\"australia\">Australia</option>\n",
        "        </select>\n",
        "        <br><br>\n",
        "\n",
        "        <!-- Submit button -->\n",
        "        <button type=\"submit\">Submit</button>\n",
        "    </form>\n",
        "</body>\n",
        "</html>\n",
        "\"\"\"\n",
        "\n",
        "display(HTML(html_content))"
      ],
      "execution_count": null,
      "outputs": [
        {
          "output_type": "display_data",
          "data": {
            "text/plain": [
              "<IPython.core.display.HTML object>"
            ],
            "text/html": [
              "\n",
              "<!DOCTYPE html>\n",
              "<html>\n",
              "<head>\n",
              "    <title>User Form</title>\n",
              "</head>\n",
              "<body>\n",
              "    <h1>User Information Form</h1>\n",
              "    <form action=\"#\" method=\"post\">\n",
              "        <!-- Name input -->\n",
              "        <label for=\"name\">Name:</label>\n",
              "        <input type=\"text\" id=\"name\" name=\"name\" placeholder=\"Enter your name\" required>\n",
              "        <br><br>\n",
              "\n",
              "        <!-- Country selection -->\n",
              "        <label for=\"country\">Country:</label>\n",
              "        <select id=\"country\" name=\"country\" required>\n",
              "            <option value=\"\">Select your country</option>\n",
              "            <option value=\"india\">India</option>\n",
              "            <option value=\"usa\">USA</option>\n",
              "            <option value=\"uk\">UK</option>\n",
              "            <option value=\"australia\">Australia</option>\n",
              "        </select>\n",
              "        <br><br>\n",
              "\n",
              "        <!-- Submit button -->\n",
              "        <button type=\"submit\">Submit</button>\n",
              "    </form>\n",
              "</body>\n",
              "</html>\n"
            ]
          },
          "metadata": {}
        }
      ]
    },
    {
      "cell_type": "markdown",
      "source": [
        "Question 5: Write short HTML code to show your favorite fruits in a bulleted list and\n",
        "your top 3 programming languages in a numbered list."
      ],
      "metadata": {
        "id": "XWh2oodGxgMA"
      }
    },
    {
      "cell_type": "code",
      "metadata": {
        "colab": {
          "base_uri": "https://localhost:8080/",
          "height": 259
        },
        "id": "fe3b26f0",
        "outputId": "4e066db8-64b7-4bf7-fef6-2b74a99ba170"
      },
      "source": [
        "from IPython.display import display, HTML\n",
        "\n",
        "html_content = \"\"\"\n",
        "<!DOCTYPE html>\n",
        "<html lang=\"en\">\n",
        "<head>\n",
        "    <meta charset=\"UTF-8\">\n",
        "    <meta name=\"viewport\" content=\"width=device-width, initial-scale=1.0\">\n",
        "    <title>My Favorite</title>\n",
        "</head>\n",
        "<body>\n",
        "    <h2>My Favorite Fruits</h2>\n",
        "    <ul>\n",
        "        <li>Mango</li>\n",
        "        <li>Apple</li>\n",
        "        <li>Banana</li>\n",
        "        <li>Cheary</li>\n",
        "    </ul>\n",
        "    <h2>Top 3 Programming Languages</h2>\n",
        "    <ol>\n",
        "        <li>Java</li>\n",
        "        <li>Python</li>\n",
        "        <li>JavaScript</li>\n",
        "    </ol>\n",
        "</body>\n",
        "</html>\n",
        "\"\"\"\n",
        "\n",
        "display(HTML(html_content))"
      ],
      "execution_count": null,
      "outputs": [
        {
          "output_type": "display_data",
          "data": {
            "text/plain": [
              "<IPython.core.display.HTML object>"
            ],
            "text/html": [
              "\n",
              "<!DOCTYPE html>\n",
              "<html lang=\"en\">\n",
              "<head>\n",
              "    <meta charset=\"UTF-8\">\n",
              "    <meta name=\"viewport\" content=\"width=device-width, initial-scale=1.0\">\n",
              "    <title>My Favorite</title>\n",
              "</head>\n",
              "<body>\n",
              "    <h2>My Favorite Fruits</h2>\n",
              "    <ul>\n",
              "        <li>Mango</li>\n",
              "        <li>Apple</li>\n",
              "        <li>Banana</li>\n",
              "        <li>Cheary</li>\n",
              "    </ul>\n",
              "    <h2>Top 3 Programming Languages</h2>\n",
              "    <ol>\n",
              "        <li>Java</li>\n",
              "        <li>Python</li>\n",
              "        <li>JavaScript</li>\n",
              "    </ol>\n",
              "</body>\n",
              "</html>\n"
            ]
          },
          "metadata": {}
        }
      ]
    },
    {
      "cell_type": "markdown",
      "source": [
        "Question 6: Ravi wants to leave a note in his HTML file so that only other developers\n",
        "can see it, not the users on the website. How should he do this? Why are such notes\n",
        "useful?"
      ],
      "metadata": {
        "id": "ThiGOdorz2Zh"
      }
    },
    {
      "cell_type": "markdown",
      "source": [
        "Ravi can leave notes in his HTML file using HTML comments, which start with <!-- and end with -->. These comments are not displayed on the webpage, so regular users won’t see them, but other developers can read them in the HTML code."
      ],
      "metadata": {
        "id": "fBxQwcqS0PY0"
      }
    },
    {
      "cell_type": "code",
      "metadata": {
        "colab": {
          "base_uri": "https://localhost:8080/",
          "height": 100
        },
        "id": "c9deb83c",
        "outputId": "d81f0daf-89e4-4740-b0bb-79635acea810"
      },
      "source": [
        "from IPython.display import display, HTML\n",
        "\n",
        "html_content = \"\"\"\n",
        "<!-- This is a note for developers: Remember to update the footer links -->\n",
        "<h1>Welcome to My Website</h1>\n",
        "<p>This is the main content of the page.</p>\n",
        "\"\"\"\n",
        "\n",
        "display(HTML(html_content))"
      ],
      "execution_count": null,
      "outputs": [
        {
          "output_type": "display_data",
          "data": {
            "text/plain": [
              "<IPython.core.display.HTML object>"
            ],
            "text/html": [
              "\n",
              "<!-- This is a note for developers: Remember to update the footer links -->\n",
              "<h1>Welcome to My Website</h1>\n",
              "<p>This is the main content of the page.</p>\n"
            ]
          },
          "metadata": {}
        }
      ]
    },
    {
      "cell_type": "markdown",
      "source": [
        "Question 7: Here’s a form snippet. Can you spot the error and rewrite the correct\n",
        "version?\n",
        "<form>\n",
        "<input name=\"email\">\n",
        "<select>\n",
        "<option>India</option>\n",
        "</select>\n",
        "<button>Send</buton>\n",
        "</form>  "
      ],
      "metadata": {
        "id": "oLvAUgx10f65"
      }
    },
    {
      "cell_type": "markdown",
      "source": [
        "In the above exmple the button tag is closed incorrectly as buton and the input field for email is missing that is type."
      ],
      "metadata": {
        "id": "3PpsqDPS0-4g"
      }
    },
    {
      "cell_type": "code",
      "metadata": {
        "colab": {
          "base_uri": "https://localhost:8080/",
          "height": 111
        },
        "id": "5c36c5a1",
        "outputId": "afae98ab-c086-40e4-8f89-ed1246e53607"
      },
      "source": [
        "from IPython.display import display, HTML\n",
        "\n",
        "html_content = \"\"\"\n",
        "<form>\n",
        "    <label for=\"email\">Email:</label>\n",
        "    <input type=\"email\" id=\"email\" name=\"email\" placeholder=\"Enter your email\" required>\n",
        "    </br></br>\n",
        "\n",
        "    <label for=\"country\">Country:</label>\n",
        "    <select id=\"country\" name=\"country\" required>\n",
        "        <option value=\"india\">India</option>\n",
        "    </select>\n",
        "    </br></br>\n",
        "\n",
        "    <button type=\"submit\">Send</button>\n",
        "</form>\n",
        "\"\"\"\n",
        "\n",
        "display(HTML(html_content))"
      ],
      "execution_count": null,
      "outputs": [
        {
          "output_type": "display_data",
          "data": {
            "text/plain": [
              "<IPython.core.display.HTML object>"
            ],
            "text/html": [
              "\n",
              "<form>\n",
              "    <label for=\"email\">Email:</label>\n",
              "    <input type=\"email\" id=\"email\" name=\"email\" placeholder=\"Enter your email\" required>\n",
              "    </br></br>\n",
              "\n",
              "    <label for=\"country\">Country:</label>\n",
              "    <select id=\"country\" name=\"country\" required>\n",
              "        <option value=\"india\">India</option>\n",
              "    </select>\n",
              "    </br></br>\n",
              "\n",
              "    <button type=\"submit\">Send</button>\n",
              "</form>\n"
            ]
          },
          "metadata": {}
        }
      ]
    }
  ]
}